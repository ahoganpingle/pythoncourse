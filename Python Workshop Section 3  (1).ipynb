{
 "cells": [
  {
   "cell_type": "markdown",
   "metadata": {},
   "source": [
    "<div class=\"clearfix\" style=\"padding: 10px; padding-left: 0px\">\n",
    "\n",
    "<a href=\"http://www.python.org\"><img src=\"Python-logo-notext.svg\" width=\"70px\" class=\"pull-right\" style=\"display: inline-block; margin: 0px;\"></a>\n",
    "</div>\n",
    "\n",
    "\n",
    "# Basic Scientific Python\n",
    "\n",
    "\n",
    "\n",
    "\n",
    "## Section 3: Container objects, or Sequences\n",
    "\n",
    "Crunching numbers generally requires doing calculations on bunches of values, and it is often useful to be able to collect numbers together in a single container.  However, Python allows more than simple numbers to be bunched together; it possesses a variety of so-called *container objects* or *sequences* (sometimes also called *iterables* depending on the context) that allow different data types to be lumped together in different ways.  We have met one of these already: the `string` type above, in which we saw that we could access part of each string by following the variable name with some numbers enclosed within square brackets.  Other container objects are *lists*, *tuples*, and *dictionaries*. Let's take a look at this further...  \n",
    "\n",
    "### Strings\n",
    "\n",
    "Execute the following line:"
   ]
  },
  {
   "cell_type": "code",
   "execution_count": null,
   "metadata": {},
   "outputs": [],
   "source": [
    "polly = 'Pining for the fjords!'"
   ]
  },
  {
   "cell_type": "markdown",
   "metadata": {},
   "source": [
    "This defines a `string`, with the identifier `polly`.  We saw previosuly that we could access the first letter by typing \n",
    "\n",
    "```python\n",
    "print(polly[0])\n",
    "```\n",
    "Do this in the following cell and note the result."
   ]
  },
  {
   "cell_type": "code",
   "execution_count": null,
   "metadata": {},
   "outputs": [],
   "source": []
  },
  {
   "cell_type": "markdown",
   "metadata": {},
   "source": [
    "This tells us that the first letter in this string is accessed using the value 0. What about the second letter?  This is accessed by typing \n",
    "\n",
    "```python\n",
    "print(polly[1])\n",
    "```\n",
    "\n",
    "...and so on.  We also saw that we could retrieve a range of letters from the string in one go by including a colon and a second number.  Execute the following cell:"
   ]
  },
  {
   "cell_type": "code",
   "execution_count": null,
   "metadata": {},
   "outputs": [],
   "source": [
    "print(polly[0:3])\n",
    "print(polly[3:12])\n",
    "print(polly[3:])\n",
    "print(polly[:-1])\n",
    "print(polly[:-4])\n",
    "print(polly[3:10:2])\n",
    "print(polly[::-1])"
   ]
  },
  {
   "cell_type": "markdown",
   "metadata": {},
   "source": [
    "What's going on here?  The string can be thought of as being a list of characters, each with an integer representing its place in the order, called its *index*, starting from zero, i.e.:\n",
    "\n",
    "<img src=\"fjords.png\" width=\"90%\" style=\"display: inline-block; margin-top: 5px;\">\n",
    "\n",
    "\n",
    "\n",
    "\n",
    "<div class=\"alert alert-warning\" style=\"width: 60%; margin-left: 20%; margin-top:20px\">\n",
    "<p><b>IMPORTANT!</b></p>\n",
    "<p>Indices in Python start at zero!  This is not the case in all languages!</p>\n",
    "</div>\n",
    "\n",
    "Each index can be accessed using the square bracket syntax, i.e. \n",
    "\n",
    "```python\n",
    "print(polly[0])\n",
    "```\n",
    "\n",
    "returns `'P'`, since this is the letter in the first index. This is called *indexing* the sequence. \n",
    "\n",
    "<div class=\"alert alert-warning\" style=\"width: 60%; margin-left: 20%; margin-top:20px\">\n",
    "<p><b>IMPORTANT!</b></p>\n",
    "<p>The number in the square brackets should be of type int. In more recent versions of Python, using a float (even one that looks like an int) will throw up an error.</p>\n",
    "</div>\n",
    "\n",
    "A string containing a range of indices is returned using a colon to separate the start and end indices. This is called *slicing* the sequence.\n",
    "\n",
    "<div class=\"alert alert-warning\" style=\"width: 60%; margin-left: 20%; margin-top:20px\">\n",
    "<p><b>IMPORTANT!</b></p>\n",
    "<p>A range [m:n] is **inclusive** of the value at index m and **exclusive** of the value at index n, i.e. the last index extracted is (n - 1)</p>\n",
    "</div>\n",
    "\n",
    "Hence, the range of `polly[0:3]` starts at the first letter, `'P'`, and finishes at index 3 - 1 = 2 ( letter `'n'`). Likewise, `polly[3:12]` begins at index 3 (`'i'`) and finished at index 12 - 1 = 11 (`'t'`).  If no second index is given, it is assumed that the range continues to the end of the list, and likewise if no first index is given, it is assumed that the range begins at the start.  Values at the end of the list can be accessed easily by counting down from the last value at index -1, such that `polly[0:-4]` starts at the beginning, and finishes at index -4 - 1 = -5, i.e. the fifth letter from the end (`'o'`).  A third colon delimits the step, such that e.g. a value of 2 means \"take every second letter\". Hence, polly[3:10:2] means \"start at index 3 and take every other letter until you get to index 9\", returning the 3rd, 5th, 7th, and 9th values (`'igfr'`).  Finally, a negative step means count backward, i.e. it provides a quick and convenient method of reversing sequences.\n",
    "\n",
    "#### Task \n",
    "In the cell below, write and execute code which does the following:\n",
    "\n",
    "* Take every character, from start to finish.\n",
    "* Take every other character, starting at the first.\n",
    "* Take every other character starting at the second.\n",
    "* Take every 5th character, starting from the fourth and finishing with the third from the end.\n",
    "* Starting from the fourth letter from the end, take every second letter backward, finishing with the third letter from the beginning.\n",
    "* Print one string containing `'Knights who say '` followed by the third, fourth and last character of `polly`.\n",
    "* Extract from `polly` the string `'ni! '`, similar to the above above, and assign it to another identifier. Create a string with this repeated 200 times.\n"
   ]
  },
  {
   "cell_type": "code",
   "execution_count": null,
   "metadata": {},
   "outputs": [],
   "source": []
  },
  {
   "cell_type": "markdown",
   "metadata": {},
   "source": [
    "Uses of string manipulation in scientific coding include tasks such as building filepaths for data files or output plots, building labels and titles for plots, and working with date strings. \n",
    "\n",
    "We have seen here some simple ways of manipulating strings using indexing and slicing.  There are, however, other ways of manipulating strings in a way unique to strings, using what are called their *methods*. These are pieces of code that come along with any Python object, and perform operations associated with it.  To find out what methods are associated with an object, in the interpreter (or in the following cell) type the name of the object followed by a full stop '.', and press `<TAB>`.  The list of methods will appear.  If you wish to find out details of one, type its name, followed by a `'?'`, and its docstring will appear.  \n",
    "\n",
    "\n",
    "<div class=\"alert alert-info\" style=\"width: 60%; margin-left: 20%; margin-top:20px\">\n",
    "<p><b>HINT</b></p>\n",
    "<p>You can save some typing by using tab-completion: type enough letters to uniquely identify a method, press TAB and its name will complete automagically </p>\n",
    "</div>\n",
    "\n",
    "Press `<TAB>` in the following cell, complete some of the names of the methods and take a look at what they do:"
   ]
  },
  {
   "cell_type": "code",
   "execution_count": null,
   "metadata": {},
   "outputs": [],
   "source": [
    "polly."
   ]
  },
  {
   "cell_type": "markdown",
   "metadata": {},
   "source": [
    "You can see that there are a number of methods that operate on strings - the effects of some are (hopefully) obvious.  For example:"
   ]
  },
  {
   "cell_type": "code",
   "execution_count": null,
   "metadata": {},
   "outputs": [],
   "source": [
    "print(polly)\n",
    "print(polly.upper())\n",
    "print(polly.lower())\n",
    "print(polly.islower())\n",
    "print(polly.lower().islower())\n",
    "print(polly.title())\n",
    "print(polly.swapcase())"
   ]
  },
  {
   "cell_type": "markdown",
   "metadata": {},
   "source": [
    "#### Task \n",
    "In the cell below, define a string called \"food\", define food using the statement 'My favourite food is ...' filling in the blank.\n",
    "Then use a variety of the print statements above to create five different variations of your sentence\n"
   ]
  },
  {
   "cell_type": "code",
   "execution_count": null,
   "metadata": {},
   "outputs": [],
   "source": []
  },
  {
   "cell_type": "markdown",
   "metadata": {},
   "source": [
    "Some methods take *arguments* inside the brackets, that is some extra information that the code requires to do its job, e.g.:"
   ]
  },
  {
   "cell_type": "code",
   "execution_count": null,
   "metadata": {},
   "outputs": [],
   "source": [
    "print(polly.count('f'))\n",
    "print(polly.replace('f', 'g'))\n",
    "print(polly.replace('or', 'um'))"
   ]
  },
  {
   "cell_type": "markdown",
   "metadata": {},
   "source": [
    "A particularly useful method is `format`.  This lets you insert objects into the string, with a specified format.  For example:"
   ]
  },
  {
   "cell_type": "code",
   "execution_count": null,
   "metadata": {},
   "outputs": [],
   "source": [
    "instructions = \\\n",
    "\"\"\"{} shalt thou {} count, \n",
    "neither count thou {}, \n",
    "excepting that thou then proceed to {:.2f}.\n",
    "{:0>8.4f} is right out.\"\"\".format(4, 'not', 2., 2.995, 5)\n",
    "print(instructions)"
   ]
  },
  {
   "cell_type": "markdown",
   "metadata": {},
   "source": [
    "It is apparent from the above that each object is being inserted into the string in the order (4, 'not', 2., 2.995, 5) at the locations denoted by the curly braces `{}`.  Optional format specifiers may be given inside the braces.  The format syntax is, to be honest, its own mini-language and, although details of its syntax can be found [here](https://docs.python.org/2/library/string.html#format-string-syntax), it's more typical to look up examples that look like what you want.  In our example, above, the first three objects (4 , 'not', and 2) are inserted with no format specifiers, so take the default for their type and value.  The latter two take format specifiers denoted by a colon followed by some stuff: `{:.2f}` means \"a fixed point number rounded to two decimal places\", and `{:0>8.4f}` means \"a fixed point number rounded to four decimal places, of total length eight digits, with the number being padded with zeros at the start\"."
   ]
  },
  {
   "cell_type": "markdown",
   "metadata": {},
   "source": [
    "#### Task\n",
    "Using your string for food, use the curly bracket operator to insert three new words into your sentence in the cell below"
   ]
  },
  {
   "cell_type": "code",
   "execution_count": null,
   "metadata": {},
   "outputs": [],
   "source": []
  },
  {
   "cell_type": "markdown",
   "metadata": {},
   "source": [
    "### Lists\n",
    "\n",
    "We have described the strings above as lists of characters, but the word *list* has a specific meaning in Python.  A list is a collection of objects in one container. Lists can contain any type of Python object, be it `int`, `string`, `float`, etc.   The object\n",
    "```python \n",
    "range(10)\n",
    "```\n",
    "is a list of integers ranging from 0-9, as we saw.  Execute the following cell."
   ]
  },
  {
   "cell_type": "code",
   "execution_count": null,
   "metadata": {},
   "outputs": [],
   "source": [
    "count = [1,2,5]\n",
    "thingsdone = 'aquaduct sanitation roads irrigation medicine education health'\n",
    "romans = thingsdone.split()\n",
    "circus = [1., 'And now for something completely different', True]\n",
    "print(count)\n",
    "print(romans)\n",
    "print(circus)"
   ]
  },
  {
   "cell_type": "markdown",
   "metadata": {},
   "source": [
    "The identifier `count` points to a list of `int`s, `romans` points to a list of `string`s created by using the `split` method on the `string` `thingsdone`, and `circus` points to a list that holds a `float`, a `string`, and a `bool`.  As is evident, there is no requirement for the list to contain one type of object. This makes lists useful and versatile tools, but not particularly good for crunching large data sets. The overheads required for checking each object type means that iterating over large Python lists is extremely slow compared to, say, iterating over arrays of numbers in C. This is where Numpy, which we'll meet later, comes in.\n",
    "\n",
    "We have discussed above how to extract particular elements from a `string` using indexing and slicing. Lists behave in exactly the same way:\n",
    "\n",
    "#### Task\n",
    "Create a new list containing the 1st, 2nd, and 3rd objects in the lists `romans`, `count`, and `circus`, respectively, assign it to an identifier of your choice and print it.  Now, create and print a list that contains the lists `romans`, `count`, and `circus`. That's right - lists can be lists of lists! "
   ]
  },
  {
   "cell_type": "code",
   "execution_count": null,
   "metadata": {},
   "outputs": [],
   "source": []
  },
  {
   "cell_type": "markdown",
   "metadata": {},
   "source": [
    "Sequence elements can be tested to see if it contains an object, and the index of a particular member can be obtained using the `index` method of a list:"
   ]
  },
  {
   "cell_type": "code",
   "execution_count": null,
   "metadata": {},
   "outputs": [],
   "source": [
    "romans = ['aquaduct', 'sanitation', 'roads', 'irrigation', 'medicine', 'education', 'health']\n",
    "print('sanitation' in romans)\n",
    "print('semi-conductor lasers' in romans)\n",
    "print(romans.index('irrigation'))"
   ]
  },
  {
   "cell_type": "markdown",
   "metadata": {},
   "source": [
    "\n",
    "#### Task\n",
    "In the cell below explain how the three print statements above are working"
   ]
  },
  {
   "cell_type": "code",
   "execution_count": null,
   "metadata": {},
   "outputs": [],
   "source": []
  },
  {
   "cell_type": "markdown",
   "metadata": {},
   "source": [
    "An important property of lists is that they can be changed.  The technical term for this is that they are *mutable*.  This simply means that individual elements can be modified, and elements can be added or removed. This is done by assigning an object to that particular element, e.g. in the following task:  \n",
    "\n",
    "#### Task \n",
    "\n",
    "Execute the following cell and write down what is happening in each line."
   ]
  },
  {
   "cell_type": "code",
   "execution_count": null,
   "metadata": {},
   "outputs": [],
   "source": [
    "romans = ['aquaduct', 'sanitation', 'roads', 'irrigation', 'medicine', 'education', 'health']\n",
    "circus = [1., 'And now for something completely different', True]\n",
    "print(romans)\n",
    "print('medicine' in romans)\n",
    "romans[romans.index('aquaduct')] = 'medicine'\n",
    "print(romans)\n",
    "romans[2:4] = ['education', 'health']\n",
    "print(romans)\n",
    "print(romans + circus)"
   ]
  },
  {
   "cell_type": "markdown",
   "metadata": {},
   "source": [
    "Double-click to edit me"
   ]
  },
  {
   "cell_type": "code",
   "execution_count": null,
   "metadata": {},
   "outputs": [],
   "source": []
  },
  {
   "cell_type": "markdown",
   "metadata": {},
   "source": [
    "### Tuples\n",
    "\n",
    "Tuples are similar to lists in most ways, but the key difference is that they *immutable*.  What does this mean? Simply that, unlike lists, they cannot be changed, once created. "
   ]
  },
  {
   "cell_type": "markdown",
   "metadata": {},
   "source": [
    "Tuples are useful for assigning scalar values to multiple identifiers in one go, and for passing parameters and results between functions.  For example, consider the following:"
   ]
  },
  {
   "cell_type": "code",
   "execution_count": null,
   "metadata": {},
   "outputs": [],
   "source": [
    "(x,y,z) = 1,2.,'Car'\n",
    "print(x)\n",
    "print(y)\n",
    "print(z)"
   ]
  },
  {
   "cell_type": "markdown",
   "metadata": {},
   "source": [
    "Here, we could have omitted the brackets completely:"
   ]
  },
  {
   "cell_type": "code",
   "execution_count": null,
   "metadata": {},
   "outputs": [],
   "source": [
    "x,y,z = 1,2.,'Car'\n",
    "print(x)\n",
    "print(y)\n",
    "print(z)"
   ]
  },
  {
   "cell_type": "markdown",
   "metadata": {},
   "source": [
    "The tuple is being \"unpacked\" for us into the individual variables.  An advantage of this construct is that we can easily swap identifiers.  So instead of the usual:"
   ]
  },
  {
   "cell_type": "code",
   "execution_count": null,
   "metadata": {},
   "outputs": [],
   "source": [
    "print(x, y)\n",
    "temp = x\n",
    "x = y\n",
    "y = temp\n",
    "print(x, y)"
   ]
  },
  {
   "cell_type": "markdown",
   "metadata": {},
   "source": [
    "We can simply write:"
   ]
  },
  {
   "cell_type": "code",
   "execution_count": null,
   "metadata": {},
   "outputs": [],
   "source": [
    "print(x, y)\n",
    "y, x = x, y\n",
    "print(x, y)"
   ]
  },
  {
   "cell_type": "markdown",
   "metadata": {},
   "source": [
    "One further thing to note is that, owing to the automatic unpacking mentioned above, if we need to create a tuple with only one element we keep the trailing comma, as omitting it unpacks the tuple into a scalar variable:"
   ]
  },
  {
   "cell_type": "code",
   "execution_count": null,
   "metadata": {},
   "outputs": [],
   "source": [
    "a = (1)\n",
    "print(a)\n",
    "a = (1,)\n",
    "print(a)"
   ]
  },
  {
   "cell_type": "markdown",
   "metadata": {},
   "source": [
    "### Dictionaries\n",
    "\n",
    "Dictionaries, or `dict`s are surprisingly powerful tools, not only for organising data, but also for conditional execution of code. They are like lists, but where each element can be accessed not by an index, but by referring to its *key*, which is some other object associated with that element. Consider the following examples:"
   ]
  },
  {
   "cell_type": "code",
   "execution_count": null,
   "metadata": {},
   "outputs": [],
   "source": [
    "questions = {'favourite colour': 'red', 'quest': 'holy grail', \n",
    "             'v_swallow0': ['african?', 'european?']}\n",
    "print(questions['quest'])\n",
    "print(questions['v_swallow0'])"
   ]
  },
  {
   "cell_type": "markdown",
   "metadata": {},
   "source": [
    "The `dict` `questions` is being accessed via its keys, in this case the `string` `'quest'`, which then returns `'holy grail'`, and `'v_swallow0'`, which returns the list `['african?', 'european?']`.\n",
    "\n",
    "There are a few other ways to create `dict`s.  Here is another one:"
   ]
  },
  {
   "cell_type": "code",
   "execution_count": null,
   "metadata": {},
   "outputs": [],
   "source": [
    "argument = dict(one = 5, two = 'the full half hour')\n",
    "print(argument['one'])"
   ]
  },
  {
   "cell_type": "markdown",
   "metadata": {},
   "source": [
    "Keys do not have to be strings - in fact, they can be any type. In the next example, the keys are bools, which then creates a very convenient way of executing code conditionally:"
   ]
  },
  {
   "cell_type": "code",
   "execution_count": null,
   "metadata": {},
   "outputs": [],
   "source": [
    "a = 3\n",
    "b = 4\n",
    "result = {True: 'a is greater than b', False: 'a is less than or equal to b'}\n",
    "print(result[a > b])\n",
    "a = 5\n",
    "b = 4\n",
    "print(result[a > b])"
   ]
  },
  {
   "cell_type": "code",
   "execution_count": null,
   "metadata": {},
   "outputs": [],
   "source": []
  }
 ],
 "metadata": {
  "kernelspec": {
   "display_name": "Python 3",
   "language": "python",
   "name": "python3"
  },
  "language_info": {
   "codemirror_mode": {
    "name": "ipython",
    "version": 3
   },
   "file_extension": ".py",
   "mimetype": "text/x-python",
   "name": "python",
   "nbconvert_exporter": "python",
   "pygments_lexer": "ipython3",
   "version": "3.8.3"
  }
 },
 "nbformat": 4,
 "nbformat_minor": 1
}
