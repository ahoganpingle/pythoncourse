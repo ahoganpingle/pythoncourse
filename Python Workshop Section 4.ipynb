{
 "cells": [
  {
   "cell_type": "markdown",
   "metadata": {},
   "source": [
    "<div class=\"clearfix\" style=\"padding: 10px; padding-left: 0px\">\n",
    "\n",
    "<a href=\"http://www.python.org\"><img src=\"Python-logo-notext.svg\" width=\"70px\" class=\"pull-right\" style=\"display: inline-block; margin: 0px;\"></a>\n",
    "</div>\n",
    "\n",
    "\n",
    "# Basic Scientific Python\n",
    "\n",
    "\n",
    "\n",
    "\n",
    "## Section 4: Flow control\n",
    "\n",
    "### If statements\n",
    "\n",
    "In the previous section, we saw how we could use `dict`s to execute code under certain conditions.  This can be very useful, but probably the most readable way of executing code based on the outcome of a test is to use Python's `if` construct.  We could have written the test in the previous task in the following way:\n",
    "\n",
    "```python\n",
    "if (y == 0) and (x > 10):\n",
    "    print('Messiah')\n",
    "else:\n",
    "    print('Very naughty boy')\n",
    "```\n",
    "\n",
    "Let's look at this in more detail.  We start the `if` statement with a line that says\n",
    "```python\n",
    "if <test>:\n",
    "```\n",
    "<div class=\"alert alert-warning\" style=\"width: 60%; margin-left: 20%; margin-top:20px\">\n",
    "<p><b>IMPORTANT!</b></p>\n",
    "<p>Note the colon ':' at the end of the line!</p>\n",
    "</div>\n",
    "\n",
    "The indented code that follows is then only executed if the condition `<test>` evaluates to `True`. \n",
    "\n",
    "<div class=\"alert alert-warning\" style=\"width: 60%; margin-left: 20%; margin-top:20px\">\n",
    "<p><b>IMPORTANT!</b></p>\n",
    "<p>While indentation is a common convention when programming in any language, in Python this is actually forced - it is built into the languge as the way that the code blocks are defined. It is not optional! This makes for very clean-looking code compared to other languages that have IF...ENDIF, FOR...ENDFOR statements or braces '{}' surrounding the code blocks. On the other hand, it can be irritating if you are using a text editor that does not automatically indent the cursor for you when you press return. Pick your text editors wisely! It is conventional to use 4 spaces as each 'unit' of indentation - not tabs.</p>\n",
    "</div>\n",
    "\n",
    "We could have finished the `if` statement after the `print 'Messiah'` line.  However, have also included an `else` statement, which executes if the condition `<test>` evaluates to `False`.  We can also chain `if` statements together using the `elif` form. Try putting different values of x in the following cell:"
   ]
  },
  {
   "cell_type": "code",
   "execution_count": 2,
   "metadata": {},
   "outputs": [
    {
     "name": "stdout",
     "output_type": "stream",
     "text": [
      "x is greater than 2\n"
     ]
    }
   ],
   "source": [
    "x = 3\n",
    "if x > 2:\n",
    "    print('x is greater than 2')\n",
    "elif x == 2:\n",
    "    print('x equals 2')\n",
    "else:\n",
    "    print('x is less than 2')"
   ]
  },
  {
   "cell_type": "markdown",
   "metadata": {},
   "source": [
    "#### Task\n",
    "\n",
    "Try inputting a variety of different x values in the statement above. Then write your own if/elif statements which takes an\n",
    "input value for y and tests to see if it is divisible by 4"
   ]
  },
  {
   "cell_type": "code",
   "execution_count": null,
   "metadata": {},
   "outputs": [],
   "source": []
  },
  {
   "cell_type": "markdown",
   "metadata": {},
   "source": [
    "### Loops\n",
    "\n",
    "Computers are useful because they can do repetitive tasks very quickly.  Repetitive work is usually undertaken with the use of *loops*.  In the previous Sections, we have briefly met and used the `for` loop, so let's take a look at this construct in more detail.  The `for` loop we first met was the following:"
   ]
  },
  {
   "cell_type": "code",
   "execution_count": null,
   "metadata": {},
   "outputs": [],
   "source": [
    "for x in range(10):\n",
    "    y = 2*x\n",
    "    print(x, y)\n",
    "print('This line is not in the loop')"
   ]
  },
  {
   "cell_type": "markdown",
   "metadata": {},
   "source": [
    "We start the `for` construct with a line that says\n",
    "```python\n",
    "for <something> in <sequence>:\n",
    "```\n",
    "<div class=\"alert alert-warning\" style=\"width: 60%; margin-left: 20%; margin-top:20px\">\n",
    "<p><b>IMPORTANT!</b></p>\n",
    "<p>Note the colon ':' at the end of the statement!</p>\n",
    "</div>\n",
    "\n",
    "The variable `<something>` is then assigned to each element of `<sequence>` in turn, in the code that follows. The code that repetitively executes in the loop is denoted by the use of indentation. Note that `<sequence>` is not limited to lists; it can be any of the iterable container objects that we met previously. \n",
    "\n",
    "\n",
    "Another way of creating loops is using a `while` statement, which loops a block of code until a condition is met.  `While` loops are useful if you do not know beforehand how many iterations of a loop you will need to do your job. Consider the following:"
   ]
  },
  {
   "cell_type": "code",
   "execution_count": null,
   "metadata": {},
   "outputs": [],
   "source": [
    "import random\n",
    "x = 50\n",
    "while (x > 0) and (x < 100):\n",
    "    print(x, 'Looping...')\n",
    "    x+=random.randint(-20,20)\n",
    "print('Finished!')"
   ]
  },
  {
   "cell_type": "markdown",
   "metadata": {},
   "source": [
    "For now, ignore the `import` statement at the start. The above code starts the variable `x` at the value 50, then succesively adds a random integer whose value can range between -20 to 20 (created by the `random.randint(-20,20)` part), until the value of x is less than 0 or greater than 100. During each iteration, the computer tests the value of `x` to see whether it meets the condition. If so, it executes the indented code block (again), and if not, it exits the loop. This  takes a different number of iterations each time you execute the cell.\n",
    "\n",
    "<div class=\"alert alert-info\" style=\"width: 60%; margin-left: 20%; margin-top:20px\">\n",
    "<p><b>HINT</b></p>\n",
    "<p> The operator '+=' is shorthand for x = x + &lt;whatever&gt;. Similar operators '-=', '*=', and '/=' exist.\n",
    "</p>\n",
    "</div>\n",
    "\n",
    "<div class=\"alert alert-info\" style=\"width: 60%; margin-left: 20%; margin-top:20px\">\n",
    "<p><b>HINT</b></p>\n",
    "<p>It is relatively easy to end up in an infinite loop, if you are not careful.  In this notebook, you'll see a [*] at the left side of the executable cell while code is running.  You can always stop execution of code by typing CTRL-c.\n",
    "</p>\n",
    "</div>\n"
   ]
  },
  {
   "cell_type": "markdown",
   "metadata": {},
   "source": [
    "#### Task\n",
    "\n",
    "By considering what you have just read above, write a piece of code that starts with the following:\n",
    "\n",
    "```python\n",
    "weapons = 'Our chief weapons are '\n",
    "armoury = ['surprise', ', fear', ', ruthless efficiency', ', and an almost fanatical devotion to the Pope!']\n",
    "nw = 0\n",
    "x = 0\n",
    "```\n",
    "and use a loop to repeatedly add a random integer ranging from 0-2 to `x`. During each iteration of the loop, run some tests.  If x is less than 25, append the first element of `armoury` to `weapons` and print the resulting string. Only do it once! (Hint: what might the variable `nw` be for?).  Similarly, if x is less than 50, add the second and print once, etc. until you get to 100, by which time you should expect to have built the whole sentence!"
   ]
  },
  {
   "cell_type": "code",
   "execution_count": null,
   "metadata": {},
   "outputs": [],
   "source": []
  },
  {
   "cell_type": "markdown",
   "metadata": {},
   "source": [
    "One final thing to note regarding loops is the use of flow control statements `break`, which completely exits the loop, and `continue`, which skips the rest of the code in that increment and starts the next. "
   ]
  }
 ],
 "metadata": {
  "kernelspec": {
   "display_name": "Python 3",
   "language": "python",
   "name": "python3"
  },
  "language_info": {
   "codemirror_mode": {
    "name": "ipython",
    "version": 3
   },
   "file_extension": ".py",
   "mimetype": "text/x-python",
   "name": "python",
   "nbconvert_exporter": "python",
   "pygments_lexer": "ipython3",
   "version": "3.8.3"
  }
 },
 "nbformat": 4,
 "nbformat_minor": 1
}
