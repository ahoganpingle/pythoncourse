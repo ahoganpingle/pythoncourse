{
 "cells": [
  {
   "cell_type": "markdown",
   "metadata": {},
   "source": [
    "<div class=\"clearfix\" style=\"padding: 10px; padding-left: 0px\">\n",
    "<a href=\"http://www.python.org\"><img src=\"Python-logo-notext.svg\" width=\"70px\" class=\"pull-right\" style=\"display: inline-block; margin: 0px;\"></a>\n",
    "</div>\n",
    "\n",
    "\n",
    "# Basic Scientific Python\n",
    "\n",
    "\n",
    "<div class=\"alert alert-warning\" style=\"width: 60%; margin-left: 20%; margin-top:20px\">\n",
    "    <p><b>SKILLS!</b>  <i>- how will this Notebook develop my employment skills? </i> </p>\n",
    "    <p>This is where you start to develop the skills that let you quickly and efficiently manipulate and visualise large batches of numbers.  This has many applications in both the corporate workplace and science. Increasingly, large volumes of data are driving the way companies devise strategies to give them the edge.  So knowing how to deal efficiently and quickly with large arrays is important.  Data scientists need to use numerical packages like Numpy to process and interrogate large amounts of data. Scientists use Numpy to run computer models and analyse data.  Wherever there are large bunches of numbers to crunch, a numerical package like Numpy is the tool of choice, since it provides access to C-like speed but with Python-like ease of use. </p>\n",
    "</div>\n",
    "\n",
    "\n",
    "\n",
    "## Section 6: Introducing Numpy\n",
    "\n",
    "### Numpy, and importing modules\n",
    "\n",
    "As we have seen, we can use the built-in Python objects to perform repetative operations.  However, we have used relatively small numbers of objects, and if we were to increase the numbers of iterations, we would quickly find that the time taken to perform these operations in Python is not negligible.  We also found that to make changes to a list (e.g. to square it) we had to manually tell the computer to loop over the whole array, which itself becomes somewhat repetitive after a while.\n",
    "\n",
    "This is where Numpy comes in. Numpy stands for *Num*erical *Py*thon, and it cures both these problems.  It provides its own type, called an `NDArray`, which allows fast and easy operations on whole arrays at once. The key difference between Numpy's `NDArray`s and Python's lists is that all the elements in an `NDArray` are forced to be the same type of object, be it `int`s, `float`s or whatever.  Numpy's core code is written in C, and all the looping is done in that language, behind the scenes, with much less overhead than looping in Python.  The result is that, while the results are not *quite* as fast as pure C execution, the speed hit is probably much less than the gain in time created by the ease of use of Numpy relative to C.\n",
    "\n",
    "Let's take a look at an example. First, you need to ensure that you run the following line every time you use this Notebook:"
   ]
  },
  {
   "cell_type": "code",
   "execution_count": null,
   "metadata": {},
   "outputs": [],
   "source": [
    "import numpy as np"
   ]
  },
  {
   "cell_type": "code",
   "execution_count": null,
   "metadata": {},
   "outputs": [],
   "source": [
    "x = np.arange(100)\n",
    "y = x**2\n",
    "print(x)\n",
    "print(y)\n",
    "print(x[0])\n",
    "print(x[2:10:2])\n",
    "print(np.pi)"
   ]
  },
  {
   "cell_type": "markdown",
   "metadata": {},
   "source": [
    "Nice and easy!  But let's have a look at this. On line 1, we have the line \n",
    "\n",
    "```python\n",
    "import numpy as np\n",
    "```\n",
    "\n",
    "This is the standard way of importing Numpy.  What do we mean by \"import\"?  Importing is one of the strengths of Python.  It allows an easy way to effectively 'copy-and-paste' a bundle of code (called a *module*, discussed later) into your program, and at the same time provides its own namespace.  This means that any variable or function associated with Numpy is accessed via `numpy.<something>`, and it is very clear what functions and variables belong to which bits of code.  This saves a lot of hassle!  In our example above, we have imported Numpy, and changed the name of the namespace to `np`, which saves a bit of typing and, as indicated, is now conventional practice.  \n",
    "\n",
    "There is another way of importing modules, in which all of the objects in the module are dumped directly into your `__main__` namespace, thereby eliminating the need to write e.g. `\"np.\"` before each function in that module.  This syntax is, using our Numpy example, \n",
    "\n",
    "```python\n",
    "from numpy import *\n",
    "```\n",
    "which means \"import everything from Numpy and stick it all in my namespace\".  There are strongly-held opinions on both sides of the debate as to whether this is a good idea. In IPython, there is even the option\n",
    "\n",
    "```python\n",
    "from pylab import *\n",
    "```\n",
    "\n",
    "which imports everything from Numpy, Scipy, and Matplotlib  (we will meet these later).  There is no doubt that this saves on typing, and if you are familiar with these modules then you can generally avoid the problems that come with loading up your `__main__` namespace, e.g. overwriting object identifiers.  However, at this stage, we will stick to the \"best practice\" approach and use the standard, separate namespaces for all these modules. \n",
    "\n",
    "\n",
    "Note also on the last line of the above example we have printed an approximation to the value of $\\pi$. Numpy has a number of such constants; for more information see [here](https://docs.scipy.org/doc/numpy/reference/constants.html).  "
   ]
  },
  {
   "cell_type": "markdown",
   "metadata": {},
   "source": [
    "### Creating NDArrays, and using Numpy functions\n",
    "\n",
    "Once we have imported Numpy (and we only have to do this once), we can use its functions.  To find out how many functions there are in Numpy, press `TAB` in the folllowing cell:"
   ]
  },
  {
   "cell_type": "code",
   "execution_count": null,
   "metadata": {},
   "outputs": [],
   "source": [
    "np."
   ]
  },
  {
   "cell_type": "markdown",
   "metadata": {},
   "source": [
    "If you wish to know what a particular function does, remember you can type its name, with a following `'?'` to get some help. You should also make regular visits to the [Numpy docs](http://docs.scipy.org/doc/numpy/reference/).  \n",
    "\n",
    "We used above the function `arange`, which as its name implies is similar to the pure Python `range` function we have used previously, but returns a Numpy `NDArray`. The syntax to call the function is as follows:\n",
    "\n",
    "```python\n",
    "result = np.arange(start=0, stop, step=1)\n",
    "```\n",
    "If start is not given, the list starts at zero, and if step is not given, it defaults to 1; this is also the case for `range`.  The type of the objects in the returned array is inferred from the type of the arguments, i.e. if they are `int`s, the output is an array of `int`s, etc.\n",
    "\n",
    "\n",
    "#### Task \n",
    "Use `np.arange` to produce arrays which\n",
    "\n",
    "* Go from 10 to 30 in steps of 0.5\n",
    "* Count backwards from 50 to 0\n",
    "\n",
    "**Note the limits!**\n"
   ]
  },
  {
   "cell_type": "code",
   "execution_count": null,
   "metadata": {},
   "outputs": [],
   "source": []
  },
  {
   "cell_type": "markdown",
   "metadata": {},
   "source": [
    "Another way of creating arrays of sequential numbers is the function `np.linspace`:"
   ]
  },
  {
   "cell_type": "code",
   "execution_count": null,
   "metadata": {},
   "outputs": [],
   "source": [
    "x = np.linspace(5, 25, 10)\n",
    "print(x)"
   ]
  },
  {
   "cell_type": "markdown",
   "metadata": {},
   "source": [
    "Using this function, we can specify the start and the end values, and the number of points. If we set the keyword 'retstep = True', we can also return the step in between each point:"
   ]
  },
  {
   "cell_type": "code",
   "execution_count": null,
   "metadata": {},
   "outputs": [],
   "source": [
    "x, dx = np.linspace(5, 25, 10, retstep=True)\n",
    "print(x, dx)"
   ]
  },
  {
   "cell_type": "markdown",
   "metadata": {},
   "source": [
    "#### Task \n",
    "In the cell below, explain clearly how the code above works"
   ]
  },
  {
   "cell_type": "code",
   "execution_count": null,
   "metadata": {},
   "outputs": [],
   "source": []
  },
  {
   "cell_type": "markdown",
   "metadata": {},
   "source": [
    "#### Task \n",
    "\n",
    "* Using `linspace`, create and print an array with 20 elements that goes from 20 to 30, along with the difference between each value.  \n",
    "* Then, create an array that goes from 0.1 to 100 in 20 even steps on a logarithmic scale (check out the docstring for `logspace`)."
   ]
  },
  {
   "cell_type": "code",
   "execution_count": null,
   "metadata": {},
   "outputs": [],
   "source": []
  },
  {
   "cell_type": "markdown",
   "metadata": {},
   "source": [
    "Further useful ways of creating arrays are the following... \n",
    "\n",
    "#### Task \n",
    "Execute the following cell and write down what each (non-print) line does, referring to the data types that you can infer from the way the numbers are printed, compared with the data types input. "
   ]
  },
  {
   "cell_type": "code",
   "execution_count": null,
   "metadata": {},
   "outputs": [],
   "source": [
    "arr1 = np.zeros(10)\n",
    "print(arr1)\n",
    "arr2 = np.ones(15)\n",
    "print(arr2)\n",
    "arr3 = np.array([1,6,3,6,9,3,6,4,8,5])\n",
    "print(arr3)\n",
    "arr4 = np.zeros_like(arr3)\n",
    "print(arr4)\n",
    "arr5 = np.array([3,6,9.])\n",
    "print(arr5)"
   ]
  },
  {
   "cell_type": "markdown",
   "metadata": {},
   "source": [
    "Double-click to edit me"
   ]
  },
  {
   "cell_type": "markdown",
   "metadata": {},
   "source": [
    "Once we have our `NDarray`, we can perform operations on the whole thing at once, as we did at the beginning of this section where  we squared the array. To multiply `arr3` by 10, we simply do:"
   ]
  },
  {
   "cell_type": "code",
   "execution_count": null,
   "metadata": {},
   "outputs": [],
   "source": [
    "print(arr3*10)"
   ]
  },
  {
   "cell_type": "markdown",
   "metadata": {},
   "source": [
    "<div class=\"alert alert-warning\" style=\"width: 60%; margin-left: 20%; margin-top:20px\">\n",
    "<p><b>IMPORTANT!</b></p>\n",
    "<p>Remember that, although multiplying a Python list by a number n produces a list with n copies of that list, multiplying a Numpy array by n returns an array in which each element is multiplied by that number.</p>\n",
    "</div>\n",
    "\n",
    "We can also index and slice the array, just as we did with lists:"
   ]
  },
  {
   "cell_type": "code",
   "execution_count": null,
   "metadata": {},
   "outputs": [],
   "source": [
    "print(arr3[0])\n",
    "print(arr3[2:8:2])"
   ]
  },
  {
   "cell_type": "markdown",
   "metadata": {},
   "source": [
    "However, note that in Numpy, the above slices are actually references to the original object in the computer's memory (not copies of the object, as is the behaviour for Python lists).\n",
    "\n",
    "<div class=\"alert alert-warning\" style=\"width: 60%; margin-left: 20%; margin-top:20px\">\n",
    "<p><b>IMPORTANT!</b></p>\n",
    "<p>The indices need to be integers (ints). Floats will throw an error, even if they appear to be integers (see the discussion in Section 2 on types as to why floats cannot usually be interpreted safely as integers).</p>\n",
    "</div>\n",
    "\n",
    "Now take a look at the following:"
   ]
  },
  {
   "cell_type": "code",
   "execution_count": null,
   "metadata": {},
   "outputs": [],
   "source": [
    "import matplotlib.pyplot as plt\n",
    "%matplotlib inline\n",
    "plt.ion()\n",
    "\n",
    "x = np.linspace(0,20, 100)\n",
    "y = -0.003*x**3 + 0.1*x**2 - x\n",
    "plt.plot(x,y)"
   ]
  },
  {
   "cell_type": "markdown",
   "metadata": {},
   "source": [
    "On line 1 we have imported the `matplotlib` plotting library into the namespace `plt`.  Ignore lines 2 and 3 for now. We have then on line 5 created an array of sequencial numbers `x`, fed them into a \n",
    "cubic polynomial to produce values `y`, and then plotted `y` versus `x`. Note that the range of the plot axes are chosen automatically, but these can be changed, as we'll see later.  \n",
    "\n",
    "\n",
    "#### Task \n",
    "\n",
    "\n",
    "Create an array `t` that increases from 0 to $2\\pi$ in a suitable number of steps, and plot $y=sin(t)$."
   ]
  },
  {
   "cell_type": "code",
   "execution_count": null,
   "metadata": {},
   "outputs": [],
   "source": []
  },
  {
   "cell_type": "markdown",
   "metadata": {},
   "source": [
    "#### Task\n",
    "\n",
    "Plot the results of 4 different Numpy functions.  Check out the [Numpy docs](https://docs.scipy.org/doc/numpy/index.html) - Numpy has quite a library to choose from!"
   ]
  },
  {
   "cell_type": "code",
   "execution_count": null,
   "metadata": {},
   "outputs": [],
   "source": []
  },
  {
   "cell_type": "code",
   "execution_count": null,
   "metadata": {},
   "outputs": [],
   "source": []
  },
  {
   "cell_type": "code",
   "execution_count": null,
   "metadata": {},
   "outputs": [],
   "source": []
  },
  {
   "cell_type": "code",
   "execution_count": null,
   "metadata": {},
   "outputs": [],
   "source": []
  },
  {
   "cell_type": "markdown",
   "metadata": {},
   "source": [
    "Because the looping over Numpy arrays occurs in fast code behind the scenes, it is a golden rule that the ponderous Python loops should be avoided where at all possible, in favour of Numpy's functions.  This is clearly not always possible, but it's worth trying to limit their use as much as possible.\n",
    "\n",
    "<div class=\"alert alert-warning\" style=\"width: 60%; margin-left: 20%; margin-top:20px\">\n",
    "<p><b>IMPORTANT!</b></p>\n",
    "<p>Loops are evil!</p>\n",
    "</div>\n",
    "\n"
   ]
  },
  {
   "cell_type": "markdown",
   "metadata": {},
   "source": [
    "#### Task 6.6\n",
    "Now use Numpy functions to re-write your factorial code and your trapezium rule integration, both in one line!  Hopefully this imbues a sense of how useful Numpy is for mathematical computations..."
   ]
  },
  {
   "cell_type": "code",
   "execution_count": null,
   "metadata": {},
   "outputs": [],
   "source": []
  },
  {
   "cell_type": "markdown",
   "metadata": {},
   "source": [
    "#### Task 6.7\n",
    "Let's have a look at conditions again: Execute the following cell and write down what is happening."
   ]
  },
  {
   "cell_type": "code",
   "execution_count": null,
   "metadata": {},
   "outputs": [],
   "source": [
    "x = np.arange(10)*2\n",
    "print(x)\n",
    "inx = x > 10\n",
    "print(inx)\n",
    "print(x[inx])\n",
    "print(np.where(inx)[0])\n",
    "\n",
    "y = np.tile('Hamster', 10)\n",
    "z = np.tile('Elderberries', 10)\n",
    "print(y)\n",
    "print(np.where(inx, y, z))"
   ]
  },
  {
   "cell_type": "markdown",
   "metadata": {},
   "source": [
    "Double-click to edit me"
   ]
  },
  {
   "cell_type": "markdown",
   "metadata": {},
   "source": [
    "One-dimensional arrays are sometimes called *vectors*, as they can be compared directly to these mathematical constructs.  However, it must be noted that array operations do not always correspond to vector operations.  For vector addition, we are OK:"
   ]
  },
  {
   "cell_type": "code",
   "execution_count": null,
   "metadata": {},
   "outputs": [],
   "source": [
    "x = np.array([3,5,4])\n",
    "y = np.array([1,6,2])\n",
    "print(x + y)"
   ]
  },
  {
   "cell_type": "markdown",
   "metadata": {},
   "source": [
    "As mentioned above, the elements are operated on element-wise, i.e. the first elements are summed, the second are summed, etc.  This corresponds to the rules of vector addition.  However, for vector multiplication, there are two methods: taking the scalar (dot) and vector (cross) products, each with a different physical meaning, as is covered in Volume 1 Section 2 of the Mathematical Physics book.  Let's see what happens when we multiply two arrays together:"
   ]
  },
  {
   "cell_type": "code",
   "execution_count": null,
   "metadata": {},
   "outputs": [],
   "source": [
    "print(x*y)"
   ]
  },
  {
   "cell_type": "markdown",
   "metadata": {},
   "source": [
    "Note again that operations proceed element-wise.  If we want scalar and vector multiplication, we use Numpy functions:"
   ]
  },
  {
   "cell_type": "code",
   "execution_count": null,
   "metadata": {},
   "outputs": [],
   "source": [
    "print(np.dot(x,y))\n",
    "# And with Python 3.5 and above...\n",
    "print(x @ y)\n",
    "\n",
    "print(np.cross(x,y))\n"
   ]
  },
  {
   "cell_type": "markdown",
   "metadata": {},
   "source": [
    "You can easily verify by hand that these results are as we expect.  \n",
    "\n",
    "#### Task 6.8\n",
    "\n",
    "An electron is moving with a velocity $\\mathbf{v}(x,y,z)=(1.04,0.02,0.1)\\;\\mathrm{km\\,s^{-1}}$ a region of space in which the magnetic field vector is $\\mathbf{B}(x,y,z)=(1.4,2.2,3.5)\\;\\mathrm{nT}$ and the electric field $\\mathbf{E}=0$.  Calculate the acceleration $\\mathbf{a}$ due to the Lorentz force $\\mathbf{F}= q(\\mathbf{E} + \\mathbf{v}\\times\\mathbf{B})$ experienced by the electron."
   ]
  },
  {
   "cell_type": "code",
   "execution_count": null,
   "metadata": {},
   "outputs": [],
   "source": []
  },
  {
   "cell_type": "markdown",
   "metadata": {},
   "source": [
    "<div class=\"alert alert-danger\" style=\"width: 60%; margin-left: 20%; margin-top:20px\">\n",
    "<p><b>Checkpoint: Please have the above marked and signed off by a demonstrator before continuing</b></p>\n",
    "</div>"
   ]
  }
 ],
 "metadata": {
  "kernelspec": {
   "display_name": "Python 3",
   "language": "python",
   "name": "python3"
  },
  "language_info": {
   "codemirror_mode": {
    "name": "ipython",
    "version": 3
   },
   "file_extension": ".py",
   "mimetype": "text/x-python",
   "name": "python",
   "nbconvert_exporter": "python",
   "pygments_lexer": "ipython3",
   "version": "3.8.3"
  }
 },
 "nbformat": 4,
 "nbformat_minor": 1
}
