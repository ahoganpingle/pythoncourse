{
 "cells": [
  {
   "cell_type": "markdown",
   "metadata": {},
   "source": [
    "<div class=\"clearfix\" style=\"padding: 10px; padding-left: 0px\">\n",
    "<a href=\"http://www.python.org\"><img src=\"Python-logo-notext.svg\" width=\"70px\" class=\"pull-right\" style=\"display: inline-block; margin: 0px;\"></a>\n",
    "</div>\n",
    "\n",
    "\n",
    "# Basic Scientific Python\n",
    "\n",
    "\n",
    "## Section 2: Types and identifiers\n",
    "\n",
    "<div class=\"alert alert-warning\" style=\"width: 60%; margin-left: 20%; margin-top:20px\">\n",
    "    <p><b>SKILLS!</b>  <i>- how will this Notebook develop my employment skills? </i> </p>\n",
    "    <p>Many of the coding fundamentals discussed in this Notebook are applicable across many other programming languages and applications. The chances are, whatever you choose to do, you'll need to deal with numbers on a computer. So you need to know how computers represent and process numbers in order to make sure this happens correctly...</p>\n",
    "</div>\n",
    "\n",
    "\n",
    "\n",
    "\n",
    "### Types\n",
    "\n",
    "Computer languages deal with different kinds of data, e.g. numbers or collections of letters. The \"type\" is simply the kind of thing that a nugget of data represents.  For example, one Python type is `int`, short for \"integer\", i.e. a whole number. Let's see what this means.  Execute the following cell... \n",
    "\n"
   ]
  },
  {
   "cell_type": "code",
   "execution_count": null,
   "metadata": {},
   "outputs": [],
   "source": [
    "t = 5"
   ]
  },
  {
   "cell_type": "markdown",
   "metadata": {},
   "source": [
    "OK, not much has visibly happened! However, what has occurred is that behind the scenes a piece of data in the computer's memory with the label '`t`' has been set to be equal to the integer 5.  \n",
    "\n",
    "<div class=\"alert alert-info\" style=\"width: 60%; margin-left: 20%; margin-top:20px\">\n",
    "<p><b>HINT</b></p>\n",
    "<p>The spaces between the characters are not required, but it is conventional to use such \"whitespace\" to aid readability of code.  There are other conventions that we will meet along the way.</p>\n",
    "</div>\n",
    "\n",
    "<div class=\"alert alert-warning\" style=\"width: 60%; margin-left: 20%; margin-top:20px\">\n",
    "<p><b>IMPORTANT!</b></p>\n",
    "<p>The \"=\" sign in this case does not imply equality!</p>\n",
    "</div>\n",
    "\n",
    "A statement like\n",
    "\n",
    "\n",
    "```python\n",
    "l = r\n",
    "```\n",
    "\n",
    "should be read \"take whatever is on the right hand side (`r`) and then set the left hand side (`l`) to be equal to it.\" There are some subtleties to this that we will discuss shortly, but for now, we simply note that the variable `t` has been given the value 5, and is thus of type `int`. This can be verified by executing the following code:"
   ]
  },
  {
   "cell_type": "code",
   "execution_count": null,
   "metadata": {},
   "outputs": [],
   "source": [
    "print(t)\n",
    "print(type(t))"
   ]
  },
  {
   "cell_type": "markdown",
   "metadata": {},
   "source": [
    "Explain in the cell below what action has been completed by the two lines of code above"
   ]
  },
  {
   "cell_type": "code",
   "execution_count": null,
   "metadata": {},
   "outputs": [],
   "source": []
  },
  {
   "cell_type": "markdown",
   "metadata": {},
   "source": [
    "Note that we didn't *need* to use a `print` command here; we could have just used the following:\n",
    "```python\n",
    "t\n",
    "```\n",
    "Simply typing the variable works here and in the interpreter, but the `print` syntax is needed in scripts, so we will use the `print` command.  Note that, unlike in Python 2, in Python 3 parentheses (these: `()`) are required, surrounding what is to be printed. \n",
    "\n",
    "<div class=\"alert alert-success\" style=\"width: 60%; margin-left: 20%; margin-top:20px\">\n",
    "<p><b>INFO</b></p>\n",
    "<p>Note also that we did not need to 'declare' the variable t before its use.  Such declarations are required in e.g. C and Fortran, and is a requirement that goes some way to explaining their high speed relative to Python. These languages are \"*statically-typed*\", which means that a variable type cannot be changed once it's created - once an int always an int - but Python is an example of a \"*dynamically-typed*\" language, in which the type of a variable can be assigned and changed as required by the operation that is being executed.  This requires testing of data types and assigning memory on the fly, slowing the code down. However, from our point of view we can simply and easily tell the computer that t is 5, and change this to 5.00, '5', 'five', or even 'Lumberjack' if we wish. </p>\n",
    "</div>\n",
    "\n",
    "\n",
    "So, what operations can we do with `int`s?  Well, for a start we can apply all the mathematical operators, as we might expect using the following characters: \n",
    "\n",
    "| Operator       | Character |\n",
    "|----------------|-----------|\n",
    "| $+$            | +         |\n",
    "| $-$            | -         |\n",
    "| $\\times$       | *         |\n",
    "| $\\div$         | /         |\n",
    "| integer $\\div$ | //        |\n",
    "| Exponentiation | **        |\n",
    "\n",
    "Operators are executed in the standard BODMAS order, i.e. brackets, of, division, multiplication, addition, subtraction. For example, execute the following:"
   ]
  },
  {
   "cell_type": "code",
   "execution_count": null,
   "metadata": {},
   "outputs": [],
   "source": [
    "print((5 + 3)*2)"
   ]
  },
  {
   "cell_type": "markdown",
   "metadata": {},
   "source": [
    "#### Task \n",
    "Try all the operators, using both odd, even and negative numbers.  For example, try doing `3/2`, `3./2`, and `-3./2`.\n",
    "\n",
    "Answer the questions below:\n",
    "\n",
    "* Do the operators work as you might expect? \n",
    "* Where does the exponentiation operator fit in the order? \n",
    "* What does the operator `%` placed between two integers do?  \n",
    "* What is the difference between \"division\" and \"integer division\"?  What happens if we use a negative number?\n",
    "\n",
    "Write down your answers in the cell below. Be sure to add comments using the \"#\" to explain what each line of code is doing, this is essential for making clear code that can be used easily by other people!\n",
    "\n",
    "\n"
   ]
  },
  {
   "cell_type": "markdown",
   "metadata": {},
   "source": []
  },
  {
   "cell_type": "markdown",
   "metadata": {},
   "source": [
    "There are other types of variable available 'built-in' to Python:\n",
    "\n",
    "* `float`: short for \"floating point\", or variables that *approximate* real numbers;\n",
    "* `long`: long integer;\n",
    "* `bool`: Boolean logic values `True` or `False`;\n",
    "* `complex`: complex numbers with the complex part denoted by `j` (**not** i!), e.g. `c = 2.3+5.2j`.\n",
    "\n",
    "Floating point numbers can be easily assigned to variables by either ensuring that the number in the assignment contains a decimal point \".\", or using the exponent notation: 273.5, 2.735E2, 0.2735E3, and 2735.E-1 are all the same floating point number. In most systems, the default range for `floats` is $\\pm10^{-308}$ to $\\pm10^{308}$ \n",
    "\n",
    "<div class=\"alert alert-success\" style=\"width: 60%; margin-left: 20%; margin-top:20px\">\n",
    "<p><b>INFO</b></p>\n",
    "<p>Floating point variables do not exactly represent real numbers, since not all real numbers can be represented by a finite number of binary digits, to which all computer variables must ultimately be reduced.  For example, the decimal of the binary digit representation of the number 0.1 is actually 0.1000000000000000055511151231257827021181583404541015625!  When printed, this is truncated by Python to 0.1, but it should be remembered that it is the above number that is employed in operations, not 0.1.  For many applications, however, the fact that binary floating point variables do not exactly represent real numbers at this high precision is not a major concern. There are occasions when this is important, however, and operations such as comparing the size of two floating point numbers can yield unexpected results at times.  For this reason, some applications, such as keeping track of money in bank accounts, for example, is always done using ints.  For more information, see [the Python docs](https://docs.python.org/2/tutorial/floatingpoint.html).</p>\n",
    "</div>\n"
   ]
  },
  {
   "cell_type": "markdown",
   "metadata": {},
   "source": [
    "Strings are groups of alphanumeric characters, assigned to variables by enclosing them within inverted commas, such as:\n",
    "```python\n",
    "x = 'Spam, spam, spam'\n",
    "y = \"Sausage, egg, and spam\"\n",
    "z = \"\"\"Spam,\n",
    "        spam, spam,\n",
    "        sausage, and spam\"\"\"\n",
    "        ```\n",
    "Single and double inverted commas are both usable (as long as you are consistent), but note that the triple version preserves the layout, such that you don't have to manually end each line with a new line delimiter \"\\n\". Try executing the above lines below."
   ]
  },
  {
   "cell_type": "code",
   "execution_count": null,
   "metadata": {},
   "outputs": [],
   "source": [
    "x = 'Spam, spam, spam'"
   ]
  },
  {
   "cell_type": "markdown",
   "metadata": {},
   "source": [
    "Operations can also be performed on strings. \n",
    "\n",
    "#### Task \n",
    "Execute the following, and write down what is happening in each case."
   ]
  },
  {
   "cell_type": "code",
   "execution_count": null,
   "metadata": {},
   "outputs": [],
   "source": [
    "print(x)\n",
    "print(x[0])\n",
    "print(x[5])\n",
    "print(x[6:10])\n",
    "print(x[13:])\n",
    "print(x*3)\n",
    "print(x + \" please!\")"
   ]
  },
  {
   "cell_type": "markdown",
   "metadata": {},
   "source": [
    "Double-click to edit me"
   ]
  },
  {
   "cell_type": "markdown",
   "metadata": {},
   "source": [
    "#### Task \n",
    "Write your own string in the cell below and use the print statement to extract letters or words from the string, provide atleast five examples"
   ]
  },
  {
   "cell_type": "markdown",
   "metadata": {},
   "source": [
    "We will come back to the syntax involving the square brackets soon.  Strings have many other features that can be used to manipulate them, as we'll go on to explore.  For now, keep in mind that strings can be used to output messages to a terminal or a plot, or input parameters to the code.\n",
    "\n",
    "Boolean data types (true or false) are extremely useful for *conditional execution*, i.e. executing a piece of code only if certain conditions are met. This is one of the fundamentals of coding.  For now, we note that Boolean data types are returned from operations involving the comparison operators as given in the following table:\n",
    "\n",
    "| Operator | Character                   |\n",
    "|----------|-----------------------------|\n",
    "| $==$     | is equal to                 |\n",
    "| $!=$     | is not equal to             |\n",
    "| $>$      | is greater than             |\n",
    "| $>=$     | is greater than or equal to |\n",
    "| $<$      | is less than                |\n",
    "| $<=$     | is less than or equal to    |\n",
    "\n",
    "and can be used using standard  Boolean logic (`and`, `or` and `not`). For example try out:\n"
   ]
  },
  {
   "cell_type": "code",
   "execution_count": null,
   "metadata": {},
   "outputs": [],
   "source": [
    "a = 3\n",
    "b = 6\n",
    "c = 9\n",
    "print(a < b)\n",
    "d = e = f = 12\n",
    "print(d, e, f)\n",
    "print(d == e == f)"
   ]
  },
  {
   "cell_type": "markdown",
   "metadata": {},
   "source": [
    "#### Task \n",
    "Assign three values to the variables, d, e and f. Use these values and boolean logic along with the relevant print statements to create three \"False\" printed statements in the cell below"
   ]
  },
  {
   "cell_type": "code",
   "execution_count": null,
   "metadata": {},
   "outputs": [],
   "source": []
  },
  {
   "cell_type": "markdown",
   "metadata": {},
   "source": [
    "The Boolean operators can be denoted using the words `and`, `or`, etc. but under ceertain conditions they can also be used using the following symbols:\n",
    "\n",
    "| Operator | Boolean operator        |\n",
    "|----------|-------------------------|\n",
    "|  &       | AND                     |\n",
    "|  &#124;  | OR                      |\n",
    "|  !       | NOT (we met this above) |\n",
    "\n",
    "Comparisons can then be chained together, as in:\n",
    "\n",
    "```python\n",
    "print( (a <= b/2) | (b > c) )\n",
    "```\n",
    "\n",
    "In order to use the symbols `|` and `&` here, we need to use the parentheses as above (we do not if we use `and`).  Note that it is always good practice to surround comparisons with parentheses, to remove any unwanted ambiguity (what happens when the brackets are removed?), but in this case it is required.  This is because there is actually a difference between the meanings of `and` and `&`; technically, the former is a boolean operation but the latter is a *bitwise* operation, but we do not need to worry too much about this here. \n",
    "\n",
    "Can you explain how this print statement is working?\n",
    "\n",
    "<div class=\"alert alert-info\" style=\"width: 60%; margin-left: 20%; margin-top:20px\">\n",
    "<p><b>HINT</b></p>\n",
    "<p>Always use brackets to avoid ambiguity</p>\n",
    "</div>"
   ]
  },
  {
   "cell_type": "code",
   "execution_count": null,
   "metadata": {},
   "outputs": [],
   "source": [
    "print( (a <= b/2) | (b > c) )"
   ]
  },
  {
   "cell_type": "code",
   "execution_count": null,
   "metadata": {},
   "outputs": [],
   "source": []
  },
  {
   "cell_type": "markdown",
   "metadata": {},
   "source": [
    "#### Task \n",
    "Assign three values to the variables, g, h and i. Use these values and the boolean operators &,| and ! along with the relevant print statements to create three \"True\" printed statements in the cell below"
   ]
  },
  {
   "cell_type": "code",
   "execution_count": null,
   "metadata": {},
   "outputs": [],
   "source": []
  },
  {
   "cell_type": "markdown",
   "metadata": {},
   "source": [
    "### Identifiers\n",
    "\n",
    "What does \"identifiers\" mean? In the above, we have used variable names (`a`, `b`, etc.) to refer to objects stored in the computer's memory, each of which have their own type, `int`, `float`, `string`, etc.  The variable names are called *identifiers*, and, along with the type are a second attribute of an object.  Identifiers can be of any length, and can contain letters (a-z), numerals (0-9), and underscores (_), although they must begin with either a letter or an underscore, and they are case sensitive, i.e. `a!=A`.\n",
    "\n",
    "<div class=\"alert alert-info\" style=\"width: 60%; margin-left: 20%; margin-top:20px\">\n",
    "<p><b>HINT</b></p>\n",
    "<p>Although identifiers can be any length, keep in mind the readability of your code. Which of the following is more readable?<br/><br/>\n",
    "Thenumberofthecountshallbethree = 3<br/>\n",
    "ncount = 3<br/><br/>\n",
    "However, do not truncate words too much without liberal use of *comments*, which are dealt with below. Also, do not start identifiers with underscores *unless you are sure that you know what you are doing*, as many of these have special meanings. It is desirable to avoid simply using a lower case \"l\" for Lima, upper case \"O\" for Oscar and upper case \"I\" for Indigo, as these can look like the numbers 1 and 0 in some fonts.  Finally, make sure your identifiers do not replicate either system variables or names used for Modules or functions - the latter comes with practice, as you learn more of these (and indeed write your own!).\n",
    "</p>\n",
    "</div>\n",
    "\n",
    "Identifiers are like PO Boxes; they are not the object itself, nor are they the actual address of where the object is held in the computer's memory (this is usually a bunch of alphanumeric characters representing a hexadecimal value). To understand this, execute the following code, line by line, in the next cell:\n",
    "\n",
    "```python\n",
    "a = 5\n",
    "print(a)\n",
    "b = a\n",
    "print(b)\n",
    "a = 25\n",
    "print(a, b)\n",
    "```"
   ]
  },
  {
   "cell_type": "code",
   "execution_count": null,
   "metadata": {},
   "outputs": [],
   "source": []
  },
  {
   "cell_type": "markdown",
   "metadata": {},
   "source": [
    "What we are doing is that we are first assigning the identifier `a` to an integer object, whose value is 5. We then assign `b` to point to the same integer object as does `a`, not the indentifier `a` itself. Hence, after we re-assign the identifer `a` to a different integer object, whose value is 25, `b` still points to the original integer object held in the computer's memory.  This object will stay in the computer's memory until it is no longer assigned to any identifier, when it is automatically expunged by Python's *garbage collection* process. This subtlety becomes particularly important when we are dealing with more complex objects than `int`s, and when we are passing data between different parts of the code."
   ]
  },
  {
   "cell_type": "markdown",
   "metadata": {},
   "source": [
    "#### Task\n",
    "\n",
    "In the cell below, write down some appropriate identifiers for the following physical constants:\n",
    "\n",
    "* Boltzmann's constant\n",
    "* The speed of light in a vacuum\n",
    "* Avagadro's number\n",
    "* Pi\n",
    "* The mass of an electron\n",
    "* The mass of the Earth\n",
    "</div>"
   ]
  },
  {
   "cell_type": "markdown",
   "metadata": {},
   "source": [
    "Double-click to edit me"
   ]
  },
  {
   "cell_type": "code",
   "execution_count": null,
   "metadata": {},
   "outputs": [],
   "source": []
  }
 ],
 "metadata": {
  "celltoolbar": "Edit Metadata",
  "kernelspec": {
   "display_name": "Python 3",
   "language": "python",
   "name": "python3"
  },
  "language_info": {
   "codemirror_mode": {
    "name": "ipython",
    "version": 3
   },
   "file_extension": ".py",
   "mimetype": "text/x-python",
   "name": "python",
   "nbconvert_exporter": "python",
   "pygments_lexer": "ipython3",
   "version": "3.8.3"
  }
 },
 "nbformat": 4,
 "nbformat_minor": 1
}
