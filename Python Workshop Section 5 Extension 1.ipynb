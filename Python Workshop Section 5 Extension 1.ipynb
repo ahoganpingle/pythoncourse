{
 "cells": [
  {
   "cell_type": "markdown",
   "metadata": {},
   "source": [
    "<div class=\"clearfix\" style=\"padding: 10px; padding-left: 0px\">\n",
    "\n",
    "<a href=\"http://www.python.org\"><img src=\"Python-logo-notext.svg\" width=\"70px\" class=\"pull-right\" style=\"display: inline-block; margin: 0px;\"></a>\n",
    "</div>\n",
    "\n",
    "\n",
    "# Basic Scientific Python\n",
    "\n",
    "\n",
    "\n",
    "\n",
    "## Section 5: Functions\n",
    "\n",
    "### Function constructs\n",
    "\n",
    "It is often useful to bunch self-contained and oft-used pieces of code into objects called *functions*.  These act just like mathematical functions, in that they accept arguments, process them, and return something else.  You have used a couple of functions already (range, random), but let's take a closer look..."
   ]
  },
  {
   "cell_type": "code",
   "execution_count": 2,
   "metadata": {},
   "outputs": [
    {
     "name": "stdout",
     "output_type": "stream",
     "text": [
      "4\n",
      "2\n"
     ]
    }
   ],
   "source": [
    "def squareit(x):\n",
    "    \"\"\" Takes x and returns its square \"\"\"\n",
    "    x = x**2\n",
    "    return x\n",
    "\n",
    "x = 2\n",
    "print(squareit(x))\n",
    "print(x)"
   ]
  },
  {
   "cell_type": "markdown",
   "metadata": {},
   "source": [
    "There's quite a lot going on here.  We define the function `squareit` on the first line using the syntax\n",
    "\n",
    "```python\n",
    "def <name>(arguments):\n",
    "```\n",
    "The function name can be anything subject to the conventions we discussed earlier, and the parentheses are mandatory, as is the final colon.  Arguments are not mandatory (the brackets are empty if there are none), and if there's more than one they are separated by commas. There are two types of input to a function: *arguments* and *keywords*; we will discuss the differences shortly. \n",
    "\n",
    "The body of the function follows, denoted by indentation as for the `if` and `for` statements we met earlier.  The first item in the body of the function is a string enclosed by 3 sets of inverted commas.  This is called the function's *docstring* and contains help regarding the function's use.  Although it's optional, it's strongly encouraged to include docstrings to help make your code readable to other people (including the future you!).  The docstring is returned if you type the function's name, followed by '?' - try it!  Any time you need a helping hand with the use of a function, just use the question mark. The executable code follows, and finally the function must return a value using\n",
    "\n",
    "```python\n",
    "return <something>\n",
    "```\n",
    "\n",
    "even if it's just the number 1 (used, for example, to indicate that the function has fully executed, if nothing else is returned). \n",
    "\n",
    "#### Task \n",
    "\n",
    "Write and demonstrate a function that takes an argument, and returns the square root of the number in the box below\n"
   ]
  },
  {
   "cell_type": "code",
   "execution_count": null,
   "metadata": {},
   "outputs": [],
   "source": []
  },
  {
   "cell_type": "markdown",
   "metadata": {},
   "source": [
    "### Scope\n",
    "\n",
    "A few statements regarding something called *scope* are in order. The scope is the region of the code where a variable is defined.  Take a look at the cell with the function `squareit`.  The first line that is executed is line 6, in which `x` is defined as 2. This is passed into function `squareit`, which defines a new variable (purposefully!) also called `x`, which is the square of the variable that was passed in.  This is returned, and printed. The returned value is 4, and the final `print x` line indicates that at this point `x` is 2. So, it is clear that, although we are defining a variable called `x` in the function `squareit`, this value is *not* retained when execution returns out of the function, and `x` is back to the value we defined it as on line 6.  Hence the scope of the `x` in the function `squareit` is only that function - not outside of it.\n",
    "\n",
    "However.. let's modify our code slightly to define a new variable `y` outside of the function:"
   ]
  },
  {
   "cell_type": "code",
   "execution_count": 1,
   "metadata": {},
   "outputs": [
    {
     "name": "stdout",
     "output_type": "stream",
     "text": [
      "8\n",
      "4\n",
      "2\n"
     ]
    }
   ],
   "source": [
    "def squareit(x):\n",
    "    \"\"\" Takes x and returns its square.\n",
    "        Also prints y \"\"\"\n",
    "    x = x**2\n",
    "    print(y)\n",
    "    return x\n",
    "\n",
    "x = 2\n",
    "y = 8\n",
    "print(squareit(x))\n",
    "print(x)"
   ]
  },
  {
   "cell_type": "markdown",
   "metadata": {},
   "source": [
    "This variable `y` is available to print in the function `squareit`! So the scope of a variable extends down into functions defined in that piece of code (but not back up). Why, then, do we need to pass `x` as an argument?  Because in principle, we could be calling the function from code written in a different file, where `x` would not automatically be available in the function.  So we use arguments to aid the *portability* of code. \n",
    "\n",
    "\n",
    "\n",
    "### Arguments and keywords\n",
    "\n",
    "As mentioned above, parameters can be passed into the function in two ways: *arguments* and *keywords*.  An example of a function accepting arguments is:\n",
    "\n",
    "```python\n",
    "def func1(x,y,z):\n",
    "    <code>\n",
    "```\n",
    "\n",
    "Variables `x`, `y`, and `z` are passed to the function, and the function knows which is which by the order of the variables. The first variable is `x`, the second is `y` and the third is `z`. All three arguments must be present when this function is called.   \n",
    "\n",
    "An example of a function accepting keywords is:\n",
    "\n",
    "```python\n",
    "def func2(u=8,v=7.8E4,w='comfy chair'):\n",
    "    <code>\n",
    "```\n",
    "Keywords are differentiated from arguments in that they are optional, and have default values given in the function definition; in this case `u` defaults to 8 if it is omitted from the function call, `v` to 7.8E4, etc. The function can be called with the keywords explicitly given, e.g.\n",
    "\n",
    "\n",
    "```python\n",
    "result = func2(u=2,v=50)\n",
    "```\n",
    "\n",
    "or inferred from their position, as for arguments:\n",
    "\n",
    "```python\n",
    "result = func2(2,50)\n",
    "```\n",
    "\n",
    "Functions can have both arguments (mandatory) and keywords (optional):\n",
    "\n",
    "```python\n",
    "def func3(x,y,z, u=8,v=7.8E4,w='comfy chair'):\n",
    "    <code>\n",
    "```\n",
    "\n",
    "One further thing needs to be mentioned regarding arguments. The thing that gets passed into the function is a reference to the Python object, not the identifier (remember that we showed above that the identifier is separate to the object held in the computer's memory). This becomes important when we pass lists, or any mutable object, as arguments to functions (in our previous example the passed variables were immutable).  Have a look at the following:"
   ]
  },
  {
   "cell_type": "code",
   "execution_count": null,
   "metadata": {},
   "outputs": [],
   "source": [
    "def changefirst(x):\n",
    "    \"\"\" Takes a list x, changes the first element, returns 1 \"\"\"\n",
    "    x[0] = 'something new'\n",
    "    return 1\n",
    "\n",
    "a = [1,2,3]\n",
    "print(a)\n",
    "changefirst(a)\n",
    "print(a)"
   ]
  },
  {
   "cell_type": "markdown",
   "metadata": {},
   "source": [
    "We define a list `a` on line 6, and this is then printed. The list `a` is passed into function `changefirst`, and the first element (index 0) is changed to the string `'something new'`. Then, the function returns the `int` 1. Finally, `a` is printed again.  It is clear that `a` has been changed by the function, even though it was not returned by the function.  This is because the variable `x` in the fuction `changefirst` points to the same object in the computer's memory as does `a`; the variable is *passed by reference* to the object (as opposed to a copy of its value).  This can sometimes lead to bugs that are tricky to track down, so it's worth keeping at the back of your mind.  We can easily avoid this by creating a new copy of the list in the function:"
   ]
  },
  {
   "cell_type": "code",
   "execution_count": 3,
   "metadata": {},
   "outputs": [
    {
     "name": "stdout",
     "output_type": "stream",
     "text": [
      "[1, 2, 3]\n",
      "[1, 2, 3]\n",
      "['something new', 2, 3]\n"
     ]
    }
   ],
   "source": [
    "def changefirst_copy(x):\n",
    "    \"\"\" Takes a list x, makes a copy, \n",
    "        changes the first element, returns the copy \"\"\"\n",
    "    x2 = x[:]\n",
    "    x2[0] = 'something new'\n",
    "    return x2\n",
    "\n",
    "a = [1,2,3]\n",
    "print(a)\n",
    "b = changefirst_copy(a)\n",
    "print(a)\n",
    "print(b)"
   ]
  },
  {
   "cell_type": "markdown",
   "metadata": {},
   "source": [
    "On line 4 of this version, a new variable `x2` is created by indexing all of the elements in the list `x`.  This creates a copy of the list `x`. So now, even though the new list is now returned, the original list is left unchanged.\n",
    "\n",
    "#### Task \n",
    "\n",
    "Write a comprehensive explanation of how the code above works using comments embedded in the code in the box below"
   ]
  },
  {
   "cell_type": "code",
   "execution_count": null,
   "metadata": {},
   "outputs": [],
   "source": [
    "def changefirst_copy(x):\n",
    "    \"\"\" Takes a list x, makes a copy, \n",
    "        changes the first element, returns the copy \"\"\"\n",
    "    x2 = x[:]\n",
    "    x2[0] = 'something new'\n",
    "    return x2\n",
    "\n",
    "a = [1,2,3]\n",
    "print(a)\n",
    "b = changefirst_copy(a)\n",
    "print(a)\n",
    "print(b)"
   ]
  }
 ],
 "metadata": {
  "kernelspec": {
   "display_name": "Python 3",
   "language": "python",
   "name": "python3"
  },
  "language_info": {
   "codemirror_mode": {
    "name": "ipython",
    "version": 3
   },
   "file_extension": ".py",
   "mimetype": "text/x-python",
   "name": "python",
   "nbconvert_exporter": "python",
   "pygments_lexer": "ipython3",
   "version": "3.8.3"
  }
 },
 "nbformat": 4,
 "nbformat_minor": 1
}
