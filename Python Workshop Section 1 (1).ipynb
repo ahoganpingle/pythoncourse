{
 "cells": [
  {
   "cell_type": "markdown",
   "metadata": {},
   "source": [
    "<div class=\"clearfix\" style=\"padding: 10px; padding-left: 0px\">\n",
    "<a href=\"http://www.python.org\"><img src=\"Python-logo-notext.svg\" width=\"70px\" class=\"pull-right\" style=\"display: inline-block; margin: 0px;\"></a>\n",
    "</div>\n",
    "\n",
    "\n",
    "# Basic Scientific Python\n",
    "\n",
    "Edited from original copy made by Dr J. D. Nichols\n",
    "\n",
    "## Section 1: Introduction\n",
    "\n",
    "Welcome to the Basic Scientific Python Skills Module!  This course is designed to help you learn the basics of using the scripting language Python for scientific applications.  The course is delivered via this interactive [Jupyter Notebook](https://jupyter.org) format, which contains cells of executable of code snippets (i.e. small pieces of computer language) that can be run in this browser. \n",
    "\n",
    "\n",
    "### Why Python?\n",
    "\n",
    " \n",
    "\n",
    "There are many computer languages, each with its own set of advantages, disadvantages, and quirks. On the one hand, there are the myriad variants of languages such as C and Fortran, which are blazingly fast, as their syntax maps very efficiently to the lower level languages that the processor can understand.  However, such speed comes with a price, which is that these languages require a steep learning curve and they can be tricky to implement. This can in some cases negate any positive effect of the language's speed on the time taken to complete the task in hand.   As such, if a particular application requires the crunching of millions of numbers, then C or Fortran may be the language of choice, but in other cases these languages may simply represent a sledgehammer to crack a nut. \n",
    "\n",
    "On the other hand, there are higher level languages (often written in the lower level languages discussed above) that have become increasingly common for scientific applications that don't require super-speedy execution.  Such languages (sometimes called *packages*) fall into two categories: proprietary and open source. The former comprises e.g. Mathematica, IDL, and Matlab.  These languages are professionally written, usually well optimised for speed (when coded the 'right' way - more on this later), and have comprehensive documentation regarding their use.  However, their inner workings are deliberately kept obscure from the end user, and they often require expensive, ongoing licence fees.  On the other hand, open source packages, such as R and Python are written by teams of well-meaning amateurs, and while they may not always be as fast or reliable as their proprietary cousins, they are at least free (in the sense that they are transparent, modifiable, and indeed require no cash to download and use). \n",
    "\n",
    "Python has in recent years emerged as one of the primary languages for scientific computing. As well as being open source, it has a clear, uncluttered syntax and, nowadays, a vast library of packages and add-ons that increase the ease of use for scientific purposes.  Key packages that turn Python from a 'mere' scripting language into a powerful scientific tool are [Numpy](http://www.numpy.org), [Scipy](http://www.scipy.org), and [Matplotlib](http://www.matplotlib.org).  These three packages, respectively, allow for fast calculations, provide a library of mathematical functions and scientific tools, and provide plotting procedures; most of the features required of a scientific computing package.  It's not as fast as C or Fortran, but the speed hit is not too terrible if the code is written appropriately, and it is far easier to write.  \n",
    "\n",
    "Python has many applications from web development to game design. The basic Python programming skills that you will learn in the course will also help you to get to grips with other programming languages which you may go on to study later.\n",
    "\n",
    "### Python 2 or 3?\n",
    "\n",
    "Python comes in several different versions, which either one slightly changed from the last. The world has been *slowly* migrating toward Python 3 from Python 2.7 (the last of version 2).  The two versions are similar, but with some key differences. Most third party packages are now updated for use with Python 3, but some people still choose to use Python 2 until they are sure that they can do what they need to do with Python 3.  Of course, if everyone thought like this then no one would migrate to Python 3, but it is clear that the momentum  has shifted heavily toward Python 3, so we will use this version here.\n",
    "\n",
    "\n",
    "### How to run Python\n",
    "\n",
    "The Jupyter Notebook provides a convenient environment for learning the language using small snippets of code.  The Notebook comprises cells of text or executable code, all conveniently packaged in a browser.  However, you should be aware right from the outset that this is *not* how Python is actually used for scientific computing.  Typically, Python code is written down in *scripts*, or files containing executable code. This can be done easily using a software package called Spyder or alternatively in a linux environment it can be written and executed directly from the terminal.\n",
    "\n",
    "\n",
    "\n",
    "Note that you can save these Notebooks using `CTRL-s` or using the menu bar at the top of the Notebook (not the browser menu), but they are automatically saved regularly too.  It is best practice to keep a pristine backup copy of these Notebooks, however, in case you need to revert to it.  Note that you can also open up new notebooks using the Notebook menu bar.  You don't need to change the type of any Notebook cell - they are all the type they need to be.\n",
    "\n",
    "<div class=\"alert alert-danger\" style=\"width: 60%; margin-left: 20%; margin-top:20px\">\n",
    "<p><b>VERY IMPORTANT!</b></p>\n",
    "<p>Save your work regularly and keep backups!</p>\n",
    "</div>\n",
    "\n",
    "\n"
   ]
  },
  {
   "cell_type": "markdown",
   "metadata": {},
   "source": [
    "### Run some Python code!\n",
    "\n",
    "Before we get into the nitty gritty of how to use Python, let's see some examples of it running...  Don't worry about exactly what code is written here, just get a feel for how a few lines of code can produce some fairly decent-looking results.\n",
    "\n",
    "To run the code below:\n",
    "\n",
    "1. Click on the cell to select it.\n",
    "2. Press `SHIFT+ENTER` on your keyboard or press the play button (<button class='fa fa-play icon-play btn btn-xs btn-default'></button>) in the toolbar above.\n",
    "\n",
    "Here, we are printing a word, adding two digits and printing a sequence of numbers."
   ]
  },
  {
   "cell_type": "code",
   "execution_count": null,
   "metadata": {},
   "outputs": [],
   "source": [
    "print('Ni!')\n",
    "print(3 + 5)\n",
    "for i in range(10):\n",
    "    print(i)"
   ]
  },
  {
   "cell_type": "markdown",
   "metadata": {},
   "source": [
    "Try writing your own print statements in the box below. "
   ]
  },
  {
   "cell_type": "code",
   "execution_count": null,
   "metadata": {},
   "outputs": [],
   "source": []
  },
  {
   "cell_type": "markdown",
   "metadata": {},
   "source": [
    "Here, we define a sequence of 10 numbers, square them, and plot them with some axis labels.  We also plot on the same axis a bar chart."
   ]
  },
  {
   "cell_type": "code",
   "execution_count": null,
   "metadata": {},
   "outputs": [],
   "source": [
    "# This line is a comment - it is ignored by the computer\n",
    "# These lines set up some code for us to use - don't worry about this,\n",
    "# we will cover what it all means later\n",
    "import numpy as np\n",
    "import random\n",
    "import matplotlib.pyplot as plt\n",
    "%matplotlib inline\n",
    "plt.ion()\n",
    "\n",
    "# Here we define a sequence of 10 numbers and square them...\n",
    "x = np.arange(10)\n",
    "y = x**2\n",
    "\n",
    "# ...and plot, with some labels!\n",
    "plt.plot(x,y,'bx')\n",
    "plt.bar(x-0.5, 90-y, color='g', alpha=0.5)\n",
    "plt.title('Price of spam')\n",
    "plt.ylabel('GBP')\n",
    "plt.xlabel('Tins')\n",
    "\n",
    "#Add a plot of some random numbers...\n",
    "#plt.plot(np.arange(100)/10., 40+ np.cumsum(5.*(2.*np.random.random(100)-1.)))"
   ]
  },
  {
   "cell_type": "markdown",
   "metadata": {},
   "source": [
    "Here we define a sequence of numbers between $-2\\pi$ and $2\\pi$, compute two sinusoids, and shade the region between them. We also label the plot."
   ]
  },
  {
   "cell_type": "code",
   "execution_count": null,
   "metadata": {},
   "outputs": [],
   "source": [
    "t = np.linspace(-2*np.pi,2.*np.pi,200)\n",
    "y = np.sin(t)\n",
    "y2 = np.sin(t*2)\n",
    "\n",
    "plt.fill_between(t,y,y2, color='b')\n",
    "plt.ylim([-1.5,1.5])\n",
    "plt.title('Nice and easy!', size='x-large')\n",
    "plt.text(-6,1.2,r'$y=\\sin(\\theta)$', size='x-large')\n",
    "plt.text(-2,1.2,r'$y_2=\\sin(2\\theta)$', size='x-large')\n",
    "plt.xlabel(r'$\\theta$')\n",
    "plt.ylabel(r'$y$')"
   ]
  },
  {
   "cell_type": "markdown",
   "metadata": {},
   "source": [
    "We can do polar plots too!"
   ]
  },
  {
   "cell_type": "code",
   "execution_count": null,
   "metadata": {},
   "outputs": [],
   "source": [
    "f = plt.figure()\n",
    "ax = f.add_axes([0, 0, 1, 1], polar=True)\n",
    "t = np.linspace(0, 4*np.pi, 200)\n",
    "ax.plot(t, t, color='MidnightBlue', lw=3);"
   ]
  },
  {
   "cell_type": "markdown",
   "metadata": {},
   "source": [
    "And make animations..."
   ]
  },
  {
   "cell_type": "markdown",
   "metadata": {},
   "source": [
    "<img src=\"conv.gif\" width=\"60%\" style=\"display: inline-block; margin-top: 5px;\">\n",
    "\n",
    "<div class=\"alert alert-success\" style=\"width: 60%; margin-left: 20%; margin-top:20px\">\n",
    "<p><b>OK, on with the course!</b></p>\n",
    "<p>Select File > Open in the Notebook menu bar, and select Sec02_Types.ipynb in the menu.</p>\n",
    "</div>\n",
    "\n"
   ]
  }
 ],
 "metadata": {
  "kernelspec": {
   "display_name": "Python 3",
   "language": "python",
   "name": "python3"
  },
  "language_info": {
   "codemirror_mode": {
    "name": "ipython",
    "version": 3
   },
   "file_extension": ".py",
   "mimetype": "text/x-python",
   "name": "python",
   "nbconvert_exporter": "python",
   "pygments_lexer": "ipython3",
   "version": "3.8.3"
  }
 },
 "nbformat": 4,
 "nbformat_minor": 1
}
